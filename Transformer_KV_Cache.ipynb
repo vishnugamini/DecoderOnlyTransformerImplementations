{
 "cells": [
  {
   "cell_type": "code",
   "execution_count": 6,
   "id": "4319a60e-9ae8-473c-aaf1-ee2577c7d7e4",
   "metadata": {},
   "outputs": [],
   "source": [
    "import torch\n",
    "from torch import nn\n",
    "import math\n",
    "import matplotlib.pyplot as plt\n",
    "import pandas as pd\n",
    "import torch.nn.functional as F"
   ]
  },
  {
   "cell_type": "code",
   "execution_count": 7,
   "id": "410921d3-477f-421c-80ab-485798b143da",
   "metadata": {},
   "outputs": [],
   "source": [
    "class TokenEmbeddings(nn.Module):\n",
    "    def __init__(self, vocab_size, d_model):\n",
    "        super().__init__()\n",
    "        self.table = nn.Embedding(vocab_size, d_model)\n",
    "    def forward(self,x):\n",
    "        return self.table(x)\n",
    "        "
   ]
  },
  {
   "cell_type": "code",
   "execution_count": 8,
   "id": "ae854fd7-0593-4627-9b5b-a2af31afd5db",
   "metadata": {},
   "outputs": [],
   "source": [
    "class PositionalEmbeddings(nn.Module):\n",
    "    def __init__(self, max_seq_length, d_model):\n",
    "        super().__init__()\n",
    "        self.table = nn.Embedding(max_seq_length, d_model)\n",
    "    def forward(self,x):\n",
    "        return self.table(x)"
   ]
  },
  {
   "cell_type": "code",
   "execution_count": 9,
   "id": "e3accc38-2f8a-46fa-a735-4139fec9e53a",
   "metadata": {},
   "outputs": [],
   "source": [
    "class Attention(nn.Module):\n",
    "    def __init__(self, embedding_dim: int, attention_dim: int, dropout_val:float, max_sequence_length: int):\n",
    "        super().__init__()\n",
    "        self.qw = nn.Linear(embedding_dim, attention_dim)\n",
    "        self.kw = nn.Linear(embedding_dim, attention_dim)\n",
    "        self.vw = nn.Linear(embedding_dim, attention_dim)\n",
    "\n",
    "        self.dropout = nn.Dropout(p = dropout_val)\n",
    "\n",
    "        mask = torch.tril(torch.ones(1,max_sequence_length, max_sequence_length))\n",
    "        self.register_buffer('mask', mask)\n",
    "\n",
    "    def forward(self, x, cache = None):\n",
    "        q = self.qw(x)\n",
    "        k = self.kw(x)\n",
    "        v = self.vw(x)\n",
    "        d_model = q.shape[-1]\n",
    "        if cache is not None:\n",
    "            prev_k,prev_v = cache\n",
    "            k = torch.cat([prev_k,k], dim = 1)\n",
    "            v = torch.cat([prev_v,v], dim = 1)\n",
    "        new_kv = (k,v)\n",
    "        qk = torch.matmul(q,torch.transpose(k,-1,-2))\n",
    "        qk = qk / math.sqrt(d_model)\n",
    "        new_length = q.shape[1]\n",
    "        total_length = k.shape[1]\n",
    "        past_length = total_length - new_length\n",
    "\n",
    "        if cache is not None:\n",
    "            d_model = qk.shape[-1]\n",
    "            mask = self.mask[:,past_length:total_length,:d_model]\n",
    "            qk = qk.masked_fill(mask == 0, float(\"-inf\"))\n",
    "        else:\n",
    "            mask = self.mask[:,:new_length,:new_length]\n",
    "            qk = qk.masked_fill(mask == 0, float(\"-inf\"))\n",
    "    \n",
    "        qk = torch.softmax(qk, dim = -1)\n",
    "        \n",
    "        qk = self.dropout(qk)\n",
    "        \n",
    "        qkv = torch.matmul(qk,v)         \n",
    "        return qkv,new_kv\n",
    "\n",
    "        \n",
    "        \n",
    "\n"
   ]
  }
 ],
 "metadata": {
  "kernelspec": {
   "display_name": "Python [conda env:base]",
   "language": "python",
   "name": "conda-base-py"
  },
  "language_info": {
   "codemirror_mode": {
    "name": "ipython",
    "version": 3
   },
   "file_extension": ".py",
   "mimetype": "text/x-python",
   "name": "python",
   "nbconvert_exporter": "python",
   "pygments_lexer": "ipython3",
   "version": "3.12.7"
  }
 },
 "nbformat": 4,
 "nbformat_minor": 5
}
